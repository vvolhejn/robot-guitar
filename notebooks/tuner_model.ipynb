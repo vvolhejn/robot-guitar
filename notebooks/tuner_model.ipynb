{
 "cells": [
  {
   "cell_type": "code",
   "execution_count": null,
   "metadata": {},
   "outputs": [],
   "source": [
    "%load_ext autoreload\n",
    "%autoreload 2"
   ]
  },
  {
   "cell_type": "code",
   "execution_count": null,
   "metadata": {},
   "outputs": [],
   "source": [
    "import plotly.express as px\n",
    "from pathlib import Path\n",
    "import json\n",
    "import datetime\n",
    "import pandas as pd\n",
    "import numpy as np"
   ]
  },
  {
   "cell_type": "code",
   "execution_count": null,
   "metadata": {},
   "outputs": [],
   "source": [
    "from autoguitar.tuning.dataset import get_dataset\n",
    "\n",
    "\n",
    "df = get_dataset()#.head(500)"
   ]
  },
  {
   "cell_type": "code",
   "execution_count": null,
   "metadata": {},
   "outputs": [],
   "source": [
    "px.scatter(\n",
    "    df,\n",
    "    x=df.index,\n",
    "    y=\"frequency\",\n",
    "    color=\"stable\",\n",
    "    hover_data=[\"steps_derivative\", \"frequency_derivative\"],\n",
    ")"
   ]
  },
  {
   "cell_type": "code",
   "execution_count": null,
   "metadata": {},
   "outputs": [],
   "source": [
    "px.scatter(\n",
    "    df,\n",
    "    x=\"steps\",\n",
    "    y=\"frequency\",\n",
    "    color=\"stable\",\n",
    "    # hover_data=[\"steps_derivative\", \"frequency_derivative\"],\n",
    ")"
   ]
  },
  {
   "cell_type": "code",
   "execution_count": null,
   "metadata": {},
   "outputs": [],
   "source": [
    "# log(y) = a * log(x) + b\n",
    "# y = x^a * exp(b)"
   ]
  },
  {
   "cell_type": "code",
   "execution_count": null,
   "metadata": {},
   "outputs": [],
   "source": [
    "import plotly.graph_objects as go\n",
    "import plotly.subplots\n",
    "\n",
    "fig = plotly.subplots.make_subplots(specs=[[{\"secondary_y\": True}]])\n",
    "\n",
    "fig.add_trace(\n",
    "    go.Scatter(\n",
    "        x=df.index,\n",
    "        y=df[\"frequency\"],\n",
    "        mode=\"lines\",\n",
    "        name=\"frequency\",\n",
    "    )\n",
    ")\n",
    "\n",
    "# add motor events\n",
    "fig.add_trace(\n",
    "    go.Scatter(\n",
    "        x=df.index,\n",
    "        y=df[\"steps\"],\n",
    "        mode=\"lines\",\n",
    "        marker=dict(color=\"red\"),\n",
    "        name=\"steps\",\n",
    "    ),\n",
    "    secondary_y=True,\n",
    ")\n",
    "\n",
    "fig.update_layout(\n",
    "    xaxis=dict(title=\"Datetime\"),\n",
    "    title=\"Frequency over Time\",\n",
    ")"
   ]
  },
  {
   "cell_type": "code",
   "execution_count": null,
   "metadata": {},
   "outputs": [],
   "source": [
    "from autoguitar.tuning.models import get_linear_regression, naive_linear_regression\n",
    "from autoguitar.tuning.models import physics_linear_regression\n",
    "\n",
    "df = get_dataset(loose_steps_max_difference=300)\n",
    "\n",
    "# model, rmse, predictions_naive = naive_linear_regression(df)\n",
    "model, rmse_naive, predictions_naive = get_linear_regression(\n",
    "    df, x_columns=[\"steps\", \"loose_steps\"], squared_frequency=False\n",
    ")\n",
    "\n",
    "model, rmse_physics, predictions_physics = physics_linear_regression(\n",
    "    df, extra_columns=[\"loose_steps\"]\n",
    ")\n",
    "\n",
    "print(rmse_naive, rmse_physics)"
   ]
  },
  {
   "cell_type": "code",
   "execution_count": null,
   "metadata": {},
   "outputs": [],
   "source": [
    "def get_cents_error(y_true: pd.Series, y_pred: pd.Series) -> pd.Series:\n",
    "    return 1200 * np.log2(y_pred / y_true)"
   ]
  },
  {
   "cell_type": "code",
   "execution_count": null,
   "metadata": {},
   "outputs": [],
   "source": [
    "df[\"frequency_predicted_naive\"] = predictions_naive\n",
    "df[\"frequency_predicted_physics\"] = predictions_physics\n",
    "df[\"error_naive\"] = (\n",
    "    get_cents_error(df[\"frequency\"], df[\"frequency_predicted_naive\"])\n",
    "    .rolling(\"1s\")\n",
    "    .mean()\n",
    ")\n",
    "df[\"error_physics\"] = (\n",
    "    get_cents_error(df[\"frequency\"], df[\"frequency_predicted_physics\"])\n",
    "    .rolling(\"1s\")\n",
    "    .mean()\n",
    ")\n",
    "\n",
    "px.line(\n",
    "    df,\n",
    "    x=df.index,\n",
    "    y=[\"frequency\", \"frequency_predicted_naive\", \"frequency_predicted_physics\"],\n",
    ")"
   ]
  },
  {
   "cell_type": "code",
   "execution_count": null,
   "metadata": {},
   "outputs": [],
   "source": [
    "px.line(\n",
    "    df.loc[df[\"stable\"]],\n",
    "    x=df.loc[df[\"stable\"]].index,\n",
    "    y=[\"error_naive\", \"error_physics\"],\n",
    ")"
   ]
  },
  {
   "cell_type": "code",
   "execution_count": null,
   "metadata": {},
   "outputs": [],
   "source": []
  }
 ],
 "metadata": {
  "kernelspec": {
   "display_name": ".venv",
   "language": "python",
   "name": "python3"
  },
  "language_info": {
   "codemirror_mode": {
    "name": "ipython",
    "version": 3
   },
   "file_extension": ".py",
   "mimetype": "text/x-python",
   "name": "python",
   "nbconvert_exporter": "python",
   "pygments_lexer": "ipython3",
   "version": "3.11.10"
  }
 },
 "nbformat": 4,
 "nbformat_minor": 2
}
