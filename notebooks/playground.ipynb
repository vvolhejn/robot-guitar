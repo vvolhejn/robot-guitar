{
 "cells": [
  {
   "cell_type": "code",
   "execution_count": null,
   "metadata": {},
   "outputs": [],
   "source": [
    "%load_ext autoreload\n",
    "%autoreload 2"
   ]
  },
  {
   "cell_type": "code",
   "execution_count": null,
   "metadata": {},
   "outputs": [],
   "source": [
    "import librosa\n",
    "import numpy as np\n",
    "import pandas as pd\n",
    "import plotly.express as px\n"
   ]
  },
  {
   "cell_type": "code",
   "execution_count": null,
   "metadata": {},
   "outputs": [],
   "source": [
    "local_times = [\n",
    "    1726308376.4984589,\n",
    "    1726308377.04511,\n",
    "    1726308377.5291789,\n",
    "    1726308377.9717388,\n",
    "    1726308378.968317,\n",
    "    1726308379.469044,\n",
    "    1726308382.752563,\n",
    "    1726308382.986196,\n",
    "    1726308383.1912751,\n",
    "    1726308383.4115672,\n",
    "    1726308383.652441,\n",
    "    1726308383.879492,\n",
    "    1726308384.130362,\n",
    "    1726308384.329192,\n",
    "    1726308384.569215,\n",
    "    1726308384.788037,\n",
    "    1726308384.979462,\n",
    "    1726308385.2301388,\n",
    "    1726308385.494813,\n",
    "    1726308385.699102,\n",
    "    1726308385.942941,\n",
    "    1726308386.173447,\n",
    "    1726308386.392236,\n",
    "    1726308386.6493042,\n",
    "    1726308386.865477,\n",
    "    1726308387.089559,\n",
    "    1726308387.3116422,\n",
    "    1726308387.5522518,\n",
    "    1726308387.7740119,\n",
    "    1726308387.99946,\n",
    "    1726308388.2044008,\n",
    "    1726308388.4099782,\n",
    "    1726308388.613107,\n",
    "    1726308388.8503811,\n",
    "    1726308389.0803468,\n",
    "    1726308389.330967,\n",
    "    1726308389.593216,\n",
    "    1726308389.8089962,\n",
    "    1726308390.020204,\n",
    "    1726308390.228779,\n",
    "    1726308390.449752,\n",
    "    1726308390.69582,\n",
    "    1726308390.9342048,\n",
    "    1726308391.152699,\n",
    "    1726308391.369375,\n",
    "    1726308391.600346,\n",
    "    1726308391.8103411,\n",
    "    1726308392.0292292,\n",
    "    1726308392.272587,\n",
    "    1726308392.499796,\n",
    "    1726308392.736524,\n",
    "    1726308392.966351,\n",
    "    1726308393.165101,\n",
    "    1726308393.39105,\n",
    "    1726308393.59233,\n",
    "    1726308393.810004,\n",
    "    1726308394.030463,\n",
    "    1726308394.305929,\n",
    "    1726308394.531722,\n",
    "    1726308394.731389,\n",
    "    1726308394.986242,\n",
    "    1726308395.207403,\n",
    "    1726308395.438857,\n",
    "    1726308395.661442,\n",
    "    1726308395.918236,\n",
    "    1726308396.139494,\n",
    "    1726308396.361011,\n",
    "    1726308396.6111722,\n",
    "    1726308396.802968,\n",
    "    1726308397.058969,\n",
    "]"
   ]
  },
  {
   "cell_type": "code",
   "execution_count": null,
   "metadata": {},
   "outputs": [],
   "source": [
    "remote_times = [\n",
    "    1726308365.8541415,\n",
    "    1726308366.5177565,\n",
    "    1726308368.0991216,\n",
    "    1726308368.250572,\n",
    "    1726308369.3142798,\n",
    "    1726308369.402137,\n",
    "    1726308369.4937136,\n",
    "    1726308369.5874372,\n",
    "    1726308369.6806753,\n",
    "    1726308369.822895,\n",
    "    1726308369.8588173,\n",
    "    1726308369.9579074,\n",
    "    1726308370.0629234,\n",
    "    1726308370.1476207,\n",
    "    1726308370.2399771,\n",
    "    1726308370.4271767,\n",
    "    1726308370.5191953,\n",
    "    1726308370.613379,\n",
    "    1726308370.7058706,\n",
    "    1726308370.87112,\n",
    "    1726308370.9825087,\n",
    "    1726308371.0732644,\n",
    "    1726308371.1697984,\n",
    "    1726308371.2612433,\n",
    "    1726308376.7758377,\n",
    "    1726308377.161481,\n",
    "    1726308377.6875904,\n",
    "    1726308378.0534434,\n",
    "    1726308378.0817964,\n",
    "    1726308379.0478044,\n",
    "    1726308379.5477266,\n",
    "    1726308382.922103,\n",
    "    1726308383.064873,\n",
    "    1726308383.2711153,\n",
    "    1726308383.4961777,\n",
    "    1726308383.731285,\n",
    "    1726308383.9813473,\n",
    "    1726308384.2122228,\n",
    "    1726308384.4953153,\n",
    "    1726308384.6480103,\n",
    "    1726308384.8671706,\n",
    "    1726308385.0625844,\n",
    "    1726308385.311051,\n",
    "    1726308385.5709789,\n",
    "    1726308385.780941,\n",
    "    1726308386.0751684,\n",
    "    1726308386.2520638,\n",
    "    1726308386.4697094,\n",
    "    1726308386.728933,\n",
    "    1726308386.947057,\n",
    "    1726308387.1681406,\n",
    "    1726308387.3939307,\n",
    "    1726308387.648514,\n",
    "    1726308387.8501153,\n",
    "    1726308388.1675167,\n",
    "    1726308388.2832465,\n",
    "    1726308388.4882517,\n",
    "    1726308388.6953294,\n",
    "    1726308388.93034,\n",
    "    1726308389.2213132,\n",
    "    1726308389.4069135,\n",
    "    1726308389.745213,\n",
    "    1726308389.8870792,\n",
    "    1726308390.1081414,\n",
    "    1726308390.3042986,\n",
    "    1726308390.52134,\n",
    "    1726308390.7932909,\n",
    "    1726308391.0152338,\n",
    "    1726308391.3171537,\n",
    "    1726308391.4491465,\n",
    "    1726308391.6791496,\n",
    "    1726308391.8869762,\n",
    "    1726308392.1085443,\n",
    "    1726308392.3658547,\n",
    "    1726308392.5771072,\n",
    "    1726308392.891376,\n",
    "    1726308393.0468185,\n",
    "    1726308393.2485936,\n",
    "    1726308393.4711592,\n",
    "    1726308393.6856666,\n",
    "    1726308393.9388077,\n",
    "    1726308394.1165419,\n",
    "    1726308394.4627326,\n",
    "    1726308394.6045165,\n",
    "    1726308394.812561,\n",
    "    1726308395.0667064,\n",
    "    1726308395.2894125,\n",
    "    1726308395.5153024,\n",
    "    1726308395.740192,\n",
    "    1726308396.0352566,\n",
    "    1726308396.2206526,\n",
    "    1726308396.438624,\n",
    "    1726308396.6863964,\n",
    "    1726308396.882046,\n",
    "    1726308397.1376836,\n",
    "]"
   ]
  },
  {
   "cell_type": "code",
   "execution_count": null,
   "metadata": {},
   "outputs": [],
   "source": [
    "len(local_times), len(remote_times)"
   ]
  },
  {
   "cell_type": "code",
   "execution_count": null,
   "metadata": {},
   "outputs": [],
   "source": [
    "df = pd.DataFrame({\"local\": local_times[-50:], \"remote\": remote_times[-50:]})\n",
    "df[\"delta_ms\"]  = (df[\"remote\"] - df[\"local\"]) * 1000"
   ]
  },
  {
   "cell_type": "code",
   "execution_count": null,
   "metadata": {},
   "outputs": [],
   "source": [
    "px.bar(df, x=df.index, y=\"delta_ms\")"
   ]
  },
  {
   "cell_type": "code",
   "execution_count": null,
   "metadata": {},
   "outputs": [],
   "source": [
    "px.scatter(x=local_times[-50:], y=remote_times[-50:])"
   ]
  },
  {
   "cell_type": "code",
   "execution_count": null,
   "metadata": {},
   "outputs": [],
   "source": [
    "px.scatter(x=local_times[-50:])"
   ]
  },
  {
   "cell_type": "code",
   "execution_count": null,
   "metadata": {},
   "outputs": [],
   "source": [
    "px.scatter(x=remote_times[-50:])"
   ]
  },
  {
   "cell_type": "code",
   "execution_count": null,
   "metadata": {},
   "outputs": [],
   "source": [
    "frequency = 440\n",
    "target_frequency = 480\n",
    "1200 * np.log2(target_frequency / frequency)"
   ]
  },
  {
   "cell_type": "code",
   "execution_count": null,
   "metadata": {},
   "outputs": [],
   "source": [
    "y = np.load(\"../data/indata.npy\")"
   ]
  },
  {
   "cell_type": "code",
   "execution_count": null,
   "metadata": {},
   "outputs": [],
   "source": [
    "len(y)"
   ]
  },
  {
   "cell_type": "code",
   "execution_count": null,
   "metadata": {},
   "outputs": [],
   "source": [
    "px.line(y=y)"
   ]
  },
  {
   "cell_type": "code",
   "execution_count": null,
   "metadata": {},
   "outputs": [],
   "source": [
    "# play audio in juptyer\n",
    "import IPython.display as ipd\n",
    "# repeat audio \n",
    "ipd.Audio(y, rate=44100)"
   ]
  },
  {
   "cell_type": "code",
   "execution_count": null,
   "metadata": {},
   "outputs": [],
   "source": [
    "min_freq"
   ]
  },
  {
   "cell_type": "code",
   "execution_count": null,
   "metadata": {},
   "outputs": [],
   "source": [
    "max_freq"
   ]
  },
  {
   "cell_type": "code",
   "execution_count": null,
   "metadata": {},
   "outputs": [],
   "source": [
    "librosa.note_to_hz(\"A2\")"
   ]
  },
  {
   "cell_type": "code",
   "execution_count": null,
   "metadata": {},
   "outputs": [],
   "source": [
    "min_freq = float(librosa.note_to_hz(\"E1\"))  # bass E\n",
    "# max_freq should be higher than we can currently wind the string to\n",
    "max_freq = float(librosa.note_to_hz(\"E3\"))\n",
    "f0 = librosa.yin(\n",
    "    y, fmin=min_freq, fmax=max_freq, sr=44100, frame_length=len(y) // 2\n",
    ")"
   ]
  },
  {
   "cell_type": "code",
   "execution_count": null,
   "metadata": {},
   "outputs": [],
   "source": [
    "f0"
   ]
  },
  {
   "cell_type": "code",
   "execution_count": null,
   "metadata": {},
   "outputs": [],
   "source": [
    "from autoguitar.dsp.pitch_detector import detect_pitch\n",
    "\n",
    "\n",
    "detect_pitch(y, sr=44100)"
   ]
  },
  {
   "cell_type": "code",
   "execution_count": null,
   "metadata": {},
   "outputs": [],
   "source": []
  },
  {
   "cell_type": "code",
   "execution_count": null,
   "metadata": {},
   "outputs": [],
   "source": []
  }
 ],
 "metadata": {
  "kernelspec": {
   "display_name": ".venv",
   "language": "python",
   "name": "python3"
  },
  "language_info": {
   "codemirror_mode": {
    "name": "ipython",
    "version": 3
   },
   "file_extension": ".py",
   "mimetype": "text/x-python",
   "name": "python",
   "nbconvert_exporter": "python",
   "pygments_lexer": "ipython3",
   "version": "3.11.2"
  }
 },
 "nbformat": 4,
 "nbformat_minor": 2
}
