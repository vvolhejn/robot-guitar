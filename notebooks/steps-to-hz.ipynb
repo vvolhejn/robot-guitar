{
 "cells": [
  {
   "cell_type": "code",
   "execution_count": null,
   "metadata": {},
   "outputs": [],
   "source": [
    "%load_ext autoreload\n",
    "%autoreload 2"
   ]
  },
  {
   "cell_type": "code",
   "execution_count": null,
   "metadata": {},
   "outputs": [],
   "source": [
    "import librosa\n",
    "import numpy as np\n",
    "import pandas as pd\n",
    "import plotly.express as px\n"
   ]
  },
  {
   "cell_type": "code",
   "execution_count": null,
   "metadata": {},
   "outputs": [],
   "source": [
    "import json\n",
    "\n",
    "\n",
    "with open(\"../data/frequency_to_steps.jsonl\") as f:\n",
    "    rows = []\n",
    "    for line in f:\n",
    "        try:\n",
    "            rows.append(json.loads(line))\n",
    "        except json.JSONDecodeError:\n",
    "            pass\n",
    "        \n",
    "df = pd.DataFrame(rows)"
   ]
  },
  {
   "cell_type": "code",
   "execution_count": null,
   "metadata": {},
   "outputs": [],
   "source": [
    "df"
   ]
  },
  {
   "cell_type": "code",
   "execution_count": null,
   "metadata": {},
   "outputs": [],
   "source": []
  },
  {
   "cell_type": "code",
   "execution_count": null,
   "metadata": {},
   "outputs": [],
   "source": [
    "px.scatter(df, x=\"cur_steps\", y=\"frequency\")"
   ]
  },
  {
   "cell_type": "code",
   "execution_count": null,
   "metadata": {},
   "outputs": [],
   "source": [
    "df"
   ]
  },
  {
   "cell_type": "code",
   "execution_count": null,
   "metadata": {},
   "outputs": [],
   "source": [
    "from sklearn.linear_model import RANSACRegressor, LinearRegression\n",
    "\n",
    "# Set up the base estimator (Linear Regression in this case)\n",
    "base_model = LinearRegression()\n",
    "\n",
    "# Set up RANSAC with the base model\n",
    "ransac = RANSACRegressor(base_model)\n",
    "\n",
    "# Fit RANSAC to your data (X and y should be numpy arrays or pandas series)\n",
    "ransac.fit(df[\"cur_steps\"].values[:, np.newaxis], df[\"frequency\"].values)"
   ]
  },
  {
   "cell_type": "code",
   "execution_count": null,
   "metadata": {},
   "outputs": [],
   "source": [
    "df_ransac = pd.DataFrame({\n",
    "    \"cur_steps\": df[\"cur_steps\"],\n",
    "    \"frequency\": ransac.predict(df[\"cur_steps\"].values[:, np.newaxis]),\n",
    "    \"is_prediction\": True,\n",
    "})"
   ]
  },
  {
   "cell_type": "code",
   "execution_count": null,
   "metadata": {},
   "outputs": [],
   "source": [
    "px.scatter(\n",
    "    pd.concat([df.assign(is_prediction=False), df_ransac]),\n",
    "    x=\"cur_steps\",\n",
    "    y=\"frequency\",\n",
    "    color=\"is_prediction\",\n",
    ").write_html(\"output.html\")"
   ]
  },
  {
   "cell_type": "code",
   "execution_count": null,
   "metadata": {},
   "outputs": [],
   "source": [
    "ransac.estimator_.coef_, ransac.estimator_.intercept_"
   ]
  },
  {
   "cell_type": "code",
   "execution_count": null,
   "metadata": {},
   "outputs": [],
   "source": []
  },
  {
   "cell_type": "code",
   "execution_count": null,
   "metadata": {},
   "outputs": [],
   "source": [
    "from sklearn.linear_model import RANSACRegressor, LinearRegression\n",
    "\n",
    "# Set up the base estimator (Linear Regression in this case)\n",
    "base_model = LinearRegression()\n",
    "\n",
    "# Set up RANSAC with the base model\n",
    "ransac = RANSACRegressor(base_model)\n",
    "\n",
    "# Fit RANSAC to your data (X and y should be numpy arrays or pandas series)\n",
    "ransac.fit(df[\"cur_steps\"].values[:, np.newaxis], df[\"frequency\"].values ** 2)"
   ]
  },
  {
   "cell_type": "code",
   "execution_count": null,
   "metadata": {},
   "outputs": [],
   "source": [
    "ransac.estimator_.coef_, ransac.estimator_.intercept_"
   ]
  },
  {
   "cell_type": "code",
   "execution_count": null,
   "metadata": {},
   "outputs": [],
   "source": [
    "df_ransac = pd.DataFrame({\n",
    "    \"cur_steps\": df[\"cur_steps\"],\n",
    "    \"frequency\": ransac.predict(df[\"cur_steps\"].values[:, np.newaxis]) ** 0.5,\n",
    "    \"is_prediction\": True,\n",
    "})\n",
    "\n",
    "px.scatter(\n",
    "    pd.concat([df.assign(is_prediction=False), df_ransac]),\n",
    "    x=\"cur_steps\",\n",
    "    y=\"frequency\",\n",
    "    color=\"is_prediction\",\n",
    ")"
   ]
  },
  {
   "cell_type": "code",
   "execution_count": null,
   "metadata": {},
   "outputs": [],
   "source": []
  }
 ],
 "metadata": {
  "kernelspec": {
   "display_name": ".venv",
   "language": "python",
   "name": "python3"
  },
  "language_info": {
   "codemirror_mode": {
    "name": "ipython",
    "version": 3
   },
   "file_extension": ".py",
   "mimetype": "text/x-python",
   "name": "python",
   "nbconvert_exporter": "python",
   "pygments_lexer": "ipython3",
   "version": "3.11.2"
  }
 },
 "nbformat": 4,
 "nbformat_minor": 2
}
