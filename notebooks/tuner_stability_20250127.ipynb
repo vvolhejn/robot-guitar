{
 "cells": [
  {
   "cell_type": "code",
   "execution_count": null,
   "metadata": {},
   "outputs": [],
   "source": [
    "%load_ext autoreload\n",
    "%autoreload 2"
   ]
  },
  {
   "cell_type": "code",
   "execution_count": null,
   "metadata": {},
   "outputs": [],
   "source": [
    "import plotly.express as px\n",
    "from pathlib import Path\n",
    "import json\n",
    "import datetime\n",
    "import pandas as pd\n",
    "import numpy as np"
   ]
  },
  {
   "cell_type": "code",
   "execution_count": null,
   "metadata": {},
   "outputs": [],
   "source": [
    "from autoguitar.tuning.dataset import get_dataset\n",
    "\n",
    "entries = []\n",
    "\n",
    "# path = \"../data/tuning_data_selected/2025-01-27_18-19-39.jsonl\"\n",
    "# path = \"../data/tuning_data_selected/2025-02-18_15-08-46-limit-100.jsonl\"\n",
    "# path = \"../data/tuning_data_selected/2025-02-18_15-16-36-motor-wait.jsonl\"\n",
    "path = \"../data/tuning_data_selected/2025-02-18_15-25-37-instant.jsonl\"\n",
    "\n",
    "with Path(path).open() as f:\n",
    "    for line in f:\n",
    "        data = json.loads(line)\n",
    "        entry = {\"kind\": data[\"kind\"], \"added_at_network_timestamp\": data[\"added_at_network_timestamp\"]}\n",
    "\n",
    "        if data[\"kind\"]in [\"model_based_tuner_strategy\", \"tuner\"]:\n",
    "            entry = {**entry, **data[\"value\"]}\n",
    "            entry[\"network_timestamp\"] = pd.to_datetime(entry[\"network_timestamp\"], unit=\"s\")\n",
    "        elif data[\"kind\"] == \"all_motors_status\":\n",
    "            motor_status = [x for x in data[\"value\"][\"status\"] if x[\"motor_number\"] == 0]\n",
    "            assert len(motor_status) == 1\n",
    "            motor_status = motor_status[0]\n",
    "\n",
    "            entry[\"steps\"] = motor_status[\"cur_steps\"]\n",
    "            entry[\"target_steps\"] = motor_status[\"target_steps\"]\n",
    "            entry[\"network_timestamp\"] = pd.to_datetime(data[\"value\"][\"network_timestamp\"]) - pd.Timedelta(hours=1)\n",
    "\n",
    "        entries.append(entry)"
   ]
  },
  {
   "cell_type": "code",
   "execution_count": null,
   "metadata": {},
   "outputs": [],
   "source": [
    "df = pd.DataFrame(entries)\n",
    "df = df.sort_values(\"network_timestamp\").set_index(\"network_timestamp\")\n",
    "# df.index = pd.to_datetime(df.index, unit='s')\n",
    "df = df.loc[df.index > datetime.datetime(2025, 1, 27, 17, 24, 0)]"
   ]
  },
  {
   "cell_type": "code",
   "execution_count": null,
   "metadata": {},
   "outputs": [],
   "source": [
    "df"
   ]
  },
  {
   "cell_type": "code",
   "execution_count": null,
   "metadata": {},
   "outputs": [],
   "source": [
    "df"
   ]
  },
  {
   "cell_type": "code",
   "execution_count": null,
   "metadata": {},
   "outputs": [],
   "source": [
    "px.scatter(df, x=df.index, y=[\"intercept\", \"current_intercept\", \"instant_intercept\"])"
   ]
  },
  {
   "cell_type": "code",
   "execution_count": null,
   "metadata": {},
   "outputs": [],
   "source": [
    "import plotly.graph_objects as go\n",
    "import plotly.subplots\n",
    "\n",
    "df2 = df.loc[df[\"kind\"] == \"model_based_tuner_strategy\"]\n",
    "\n",
    "fig = plotly.subplots.make_subplots(specs=[[{\"secondary_y\": True}]])\n",
    "\n",
    "fig.add_trace(\n",
    "    go.Scatter(\n",
    "        x=df2.index,\n",
    "        y=df2[\"frequency\"],\n",
    "        mode=\"lines\",\n",
    "        name=\"frequency\",\n",
    "    )\n",
    ")\n",
    "fig.add_trace(\n",
    "    go.Scatter(\n",
    "        x=df2.index,\n",
    "        y=df2[\"target_frequency\"],\n",
    "        mode=\"lines\",\n",
    "        name=\"target_frequency\",\n",
    "    )\n",
    ")\n",
    "\n",
    "# fig.add_trace(\n",
    "#     go.Scatter(\n",
    "#         x=df2.index,\n",
    "#         y=df2[\"instant_intercept\"],\n",
    "#         # mode=\"lines\",\n",
    "#         # marker=dict(color=\"red\"),\n",
    "#         name=\"instant_intercept\",\n",
    "#     ),\n",
    "#     secondary_y=True,\n",
    "# )\n",
    "\n",
    "fig.add_trace(\n",
    "    go.Scatter(\n",
    "        x=df2.index,\n",
    "        y=df2[\"cur_steps\"],\n",
    "        # mode=\"lines\",\n",
    "        # marker=dict(color=\"red\"),\n",
    "        name=\"cur_steps\",\n",
    "    ),\n",
    "    secondary_y=True,\n",
    ")\n",
    "# fig.add_trace(\n",
    "#     go.Scatter(\n",
    "#         x=df2.index,\n",
    "#         y=df2[\"target_steps\"],\n",
    "#         # mode=\"lines\",\n",
    "#         # marker=dict(color=\"red\"),\n",
    "#         name=\"target_steps\",\n",
    "#     ),\n",
    "#     secondary_y=True,\n",
    "# )\n",
    "\n",
    "\n",
    "fig.update_layout(\n",
    "    xaxis=dict(title=\"Datetime\"),\n",
    "    title=\"Frequency over Time\",\n",
    ")"
   ]
  },
  {
   "cell_type": "code",
   "execution_count": null,
   "metadata": {},
   "outputs": [],
   "source": [
    "px.scatter(df, x=df.index, y=[\"cur_steps\", \"estimated_target_steps\"])"
   ]
  },
  {
   "cell_type": "code",
   "execution_count": null,
   "metadata": {},
   "outputs": [],
   "source": [
    "df"
   ]
  },
  {
   "cell_type": "code",
   "execution_count": null,
   "metadata": {},
   "outputs": [],
   "source": []
  },
  {
   "cell_type": "code",
   "execution_count": null,
   "metadata": {},
   "outputs": [],
   "source": []
  }
 ],
 "metadata": {
  "kernelspec": {
   "display_name": ".venv",
   "language": "python",
   "name": "python3"
  },
  "language_info": {
   "codemirror_mode": {
    "name": "ipython",
    "version": 3
   },
   "file_extension": ".py",
   "mimetype": "text/x-python",
   "name": "python",
   "nbconvert_exporter": "python",
   "pygments_lexer": "ipython3",
   "version": "3.11.10"
  }
 },
 "nbformat": 4,
 "nbformat_minor": 2
}
